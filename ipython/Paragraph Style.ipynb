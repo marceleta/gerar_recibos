{
 "cells": [
  {
   "cell_type": "code",
   "execution_count": 15,
   "id": "2999adfa",
   "metadata": {},
   "outputs": [
    {
     "name": "stdout",
     "output_type": "stream",
     "text": [
      "/home/marcelo/developer/gerar_recibos\n"
     ]
    }
   ],
   "source": [
    "cd .."
   ]
  },
  {
   "cell_type": "code",
   "execution_count": 33,
   "id": "8d6ce521",
   "metadata": {},
   "outputs": [],
   "source": [
    "from docx import Document\n",
    "from docx.text.paragraph import Paragraph\n",
    "from docx.shared import Pt"
   ]
  },
  {
   "cell_type": "code",
   "execution_count": 16,
   "id": "15357313",
   "metadata": {},
   "outputs": [],
   "source": [
    "modelo = Document('clientes/ADONIAS/RECIBOS/MODELO.docx')"
   ]
  },
  {
   "cell_type": "code",
   "execution_count": 20,
   "id": "39a77fbd",
   "metadata": {},
   "outputs": [],
   "source": [
    "tabela = modelo.tables"
   ]
  },
  {
   "cell_type": "code",
   "execution_count": 22,
   "id": "c8ed8f78",
   "metadata": {},
   "outputs": [],
   "source": [
    "rows = tabela[0].rows "
   ]
  },
  {
   "cell_type": "code",
   "execution_count": 35,
   "id": "7d4fc5c5",
   "metadata": {},
   "outputs": [
    {
     "name": "stdout",
     "output_type": "stream",
     "text": [
      "['__class__', '__delattr__', '__dict__', '__dir__', '__doc__', '__eq__', '__format__', '__ge__', '__getattribute__', '__gt__', '__hash__', '__init__', '__init_subclass__', '__le__', '__lt__', '__module__', '__ne__', '__new__', '__reduce__', '__reduce_ex__', '__repr__', '__setattr__', '__sizeof__', '__str__', '__subclasshook__', '__weakref__', '_element', '_insert_paragraph_before', '_p', '_parent', 'add_run', 'alignment', 'clear', 'insert_paragraph_before', 'paragraph_format', 'part', 'runs', 'style', 'text']\n",
      "RECIBO DE ALUGUEL\n",
      "['__class__', '__delattr__', '__dir__', '__doc__', '__eq__', '__format__', '__ge__', '__getattribute__', '__gt__', '__hash__', '__init__', '__init_subclass__', '__le__', '__lt__', '__module__', '__ne__', '__new__', '__reduce__', '__reduce_ex__', '__repr__', '__setattr__', '__sizeof__', '__slots__', '__str__', '__subclasshook__', '_element', '_parent', 'base_style', 'builtin', 'delete', 'element', 'font', 'hidden', 'locked', 'name', 'next_paragraph_style', 'paragraph_format', 'part', 'priority', 'quick_style', 'style_id', 'type', 'unhide_when_used']\n",
      "114300\n",
      "63500\n"
     ]
    }
   ],
   "source": [
    "for row in rows:\n",
    "    for cell in row.cells:\n",
    "        for paragraph in cell.paragraphs:\n",
    "            print(dir(paragraph))\n",
    "            print(paragraph.text)\n",
    "            style = paragraph.style\n",
    "            print(dir(style))\n",
    "            print(style.font.size)\n",
    "            style.font.size = Pt(5)\n",
    "            print(style.font.size)"
   ]
  },
  {
   "cell_type": "code",
   "execution_count": null,
   "id": "3e8fb654",
   "metadata": {},
   "outputs": [],
   "source": []
  },
  {
   "cell_type": "code",
   "execution_count": null,
   "id": "b5d91cf8",
   "metadata": {},
   "outputs": [],
   "source": []
  },
  {
   "cell_type": "code",
   "execution_count": null,
   "id": "bb8a0d3f",
   "metadata": {},
   "outputs": [],
   "source": []
  },
  {
   "cell_type": "code",
   "execution_count": null,
   "id": "d333ba96",
   "metadata": {},
   "outputs": [],
   "source": []
  },
  {
   "cell_type": "code",
   "execution_count": null,
   "id": "c564a316",
   "metadata": {},
   "outputs": [],
   "source": []
  },
  {
   "cell_type": "code",
   "execution_count": null,
   "id": "c6fc52f3",
   "metadata": {},
   "outputs": [],
   "source": []
  },
  {
   "cell_type": "code",
   "execution_count": null,
   "id": "b256ff88",
   "metadata": {},
   "outputs": [],
   "source": []
  },
  {
   "cell_type": "code",
   "execution_count": null,
   "id": "a28008fd",
   "metadata": {},
   "outputs": [],
   "source": []
  }
 ],
 "metadata": {
  "kernelspec": {
   "display_name": "Python 3 (ipykernel)",
   "language": "python",
   "name": "python3"
  },
  "language_info": {
   "codemirror_mode": {
    "name": "ipython",
    "version": 3
   },
   "file_extension": ".py",
   "mimetype": "text/x-python",
   "name": "python",
   "nbconvert_exporter": "python",
   "pygments_lexer": "ipython3",
   "version": "3.10.9"
  }
 },
 "nbformat": 4,
 "nbformat_minor": 5
}
