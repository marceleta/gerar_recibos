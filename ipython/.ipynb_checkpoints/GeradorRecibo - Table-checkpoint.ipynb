{
 "cells": [
  {
   "cell_type": "code",
   "execution_count": 30,
   "id": "ad9ee609",
   "metadata": {},
   "outputs": [
    {
     "name": "stdout",
     "output_type": "stream",
     "text": [
      "/home/marcelo/developer/gerar_recibos\n"
     ]
    }
   ],
   "source": [
    "cd .."
   ]
  },
  {
   "cell_type": "code",
   "execution_count": null,
   "id": "dbfcaa45",
   "metadata": {},
   "outputs": [],
   "source": []
  },
  {
   "cell_type": "code",
   "execution_count": 31,
   "id": "ce3ce495",
   "metadata": {},
   "outputs": [],
   "source": [
    "class CalculoRecibo():\n",
    "    \n",
    "    @classmethod\n",
    "    def dados_entrada(cls, valores_iniciais):\n",
    "        valor = valores_iniciais['valor']\n",
    "        valor_extenso = valores_iniciais['v_extenso']\n",
    "        dt_inicio_contrato = valores_iniciais['data_inicio_contrato']\n",
    "        dt_final_contrato = valores_iniciais['data_final_contrato']\n",
    "        \n",
    "        \n",
    "        lista_recibos = []\n",
    "        mes = 0\n",
    "        for periodo in range(12):\n",
    "            \n",
    "            \n",
    "            dados_recibo = {}\n",
    "            dados_recibo['{VALOR}'] = valor\n",
    "            dados_recibo['{VALOR_EXTENSO}'] = valor_extenso\n",
    "            \n",
    "            if periodo == 0:\n",
    "                dados_recibo['mes'] = str(periodo + 1)\n",
    "                dados_recibo['{VENCIMENTO}'] = cls.soma_mes(dt_inicio_contrato, 0)\n",
    "                dados_recibo['{MES_REFER}'] = cls.mes_referencia(dados_recibo['{VENCIMENTO}'])\n",
    "                dados_recibo['{PERIODO}'] = cls.periodo_ref(dados_recibo['{VENCIMENTO}'])\n",
    "                \n",
    "            else:\n",
    "                mes = mes + 1\n",
    "                dados_recibo['mes'] = str(mes + 1)\n",
    "                \n",
    "                dados_recibo['{VENCIMENTO}'] = cls.soma_mes(dt_inicio_contrato, mes)\n",
    "                dados_recibo['{MES_REFER}'] = cls.mes_referencia(dados_recibo['{VENCIMENTO}'])\n",
    "                dados_recibo['{PERIODO}'] = cls.periodo_ref(dados_recibo['{VENCIMENTO}'])\n",
    "                \n",
    "            dados_recibo['{CONTRATO_INICIO}'] = dt_inicio_contrato\n",
    "            dados_recibo['{CONTRATO_FINAL}'] = dt_final_contrato\n",
    "            \n",
    "                \n",
    "                \n",
    "                \n",
    "            \n",
    "            lista_recibos.append(dados_recibo)\n",
    "                \n",
    "        return lista_recibos\n",
    "                \n",
    "                         \n",
    "    @classmethod\n",
    "    def soma_mes(cls, data, numero_mes):\n",
    "        \n",
    "        split = data.split('/')\n",
    "        mes = int(split[1])\n",
    "        mes = mes + numero_mes\n",
    "        \n",
    "        if mes > 12:\n",
    "            ano = int(split[2])\n",
    "            ano = ano + 1\n",
    "            mes = mes - 12\n",
    "            nova_data = split[0] + '/' + str(mes) + '/' + str(ano)\n",
    "        else:\n",
    "            nova_data = split[0] + '/' + str(mes) + '/' + split[2]\n",
    "            \n",
    "        return nova_data\n",
    "    \n",
    "    @classmethod\n",
    "    def mes_referencia(cls, data, novo_mes=None):\n",
    "        \n",
    "        split = data.split('/')\n",
    "        \n",
    "        mes = int(split[1])\n",
    "        ano = int(split[2])\n",
    "        \n",
    "        if novo_mes != None:\n",
    "            if mes > 12:\n",
    "                mes = mes - 12\n",
    "                ano = ano + 1\n",
    "            m_referencia = str(mes) + '/' + str(ano)\n",
    "        else:\n",
    "            m_referencia = split[1] + '/' + split[2]\n",
    "        \n",
    "        return m_referencia\n",
    "    \n",
    "    @classmethod\n",
    "    def periodo_ref(cls, data_vencimento):\n",
    "        \n",
    "        split = data_vencimento.split('/')\n",
    "        dia = int(split[0]) - 1\n",
    "        mes = int(split[1]) + 1\n",
    "        ano = int(split[2])\n",
    "        \n",
    "        \n",
    "        if mes > 12:\n",
    "            mes = mes - 12\n",
    "            ano = ano + 1\n",
    "        \n",
    "        data_ref_final = \"{}/{}/{}\".format(str(dia), str(mes), str(ano))\n",
    "        \n",
    "        return \"{} à {}\".format(data_vencimento, data_ref_final)\n",
    "                \n",
    "    #Soma n aos meses sem alterar a             \n",
    "    @classmethod\n",
    "    def soma_mes(cls, data, numero_mes):\n",
    "        \n",
    "        split = data.split('/')\n",
    "        mes = int(split[1])\n",
    "        mes = mes + numero_mes\n",
    "        \n",
    "        if mes > 12:\n",
    "            ano = int(split[2])\n",
    "            ano = ano + 1\n",
    "            mes = numero_mes\n",
    "            nova_data = split[0] + '/' + str(mes) + '/' + str(ano)\n",
    "        else:\n",
    "            nova_data = split[0] + '/' + str(mes) + '/' + split[2]\n",
    "            \n",
    "        return nova_data\n",
    "    \n",
    "    @classmethod\n",
    "    def mes_referencia(cls, data):\n",
    "        \n",
    "        split = data.split('/')\n",
    "        \n",
    "        m_referencia = split[1] + '/' + split[2]\n",
    "        \n",
    "        return m_referencia"
   ]
  },
  {
   "cell_type": "code",
   "execution_count": 32,
   "id": "1916bf2d",
   "metadata": {},
   "outputs": [],
   "source": [
    "dados_iniciais = {\n",
    "    'valor': '100.00',\n",
    "    'v_extenso': 'Cem reais',\n",
    "    'data_inicio_contrato': '20/01/2023',\n",
    "    'data_final_contrato':'19/01/2024'\n",
    "}"
   ]
  },
  {
   "cell_type": "code",
   "execution_count": 33,
   "id": "4966f474",
   "metadata": {
    "scrolled": true
   },
   "outputs": [
    {
     "name": "stdout",
     "output_type": "stream",
     "text": [
      "[{'{VALOR}': '100.00', '{VALOR_EXTENSO}': 'Cem reais', 'mes': '1', '{VENCIMENTO}': '20/1/2023', '{MES_REFER}': '1/2023', '{PERIODO}': '20/1/2023 à 19/2/2023', '{CONTRATO_INICIO}': '20/01/2023', '{CONTRATO_FINAL}': '19/01/2024'}, {'{VALOR}': '100.00', '{VALOR_EXTENSO}': 'Cem reais', 'mes': '2', '{VENCIMENTO}': '20/2/2023', '{MES_REFER}': '2/2023', '{PERIODO}': '20/2/2023 à 19/3/2023', '{CONTRATO_INICIO}': '20/01/2023', '{CONTRATO_FINAL}': '19/01/2024'}, {'{VALOR}': '100.00', '{VALOR_EXTENSO}': 'Cem reais', 'mes': '3', '{VENCIMENTO}': '20/3/2023', '{MES_REFER}': '3/2023', '{PERIODO}': '20/3/2023 à 19/4/2023', '{CONTRATO_INICIO}': '20/01/2023', '{CONTRATO_FINAL}': '19/01/2024'}, {'{VALOR}': '100.00', '{VALOR_EXTENSO}': 'Cem reais', 'mes': '4', '{VENCIMENTO}': '20/4/2023', '{MES_REFER}': '4/2023', '{PERIODO}': '20/4/2023 à 19/5/2023', '{CONTRATO_INICIO}': '20/01/2023', '{CONTRATO_FINAL}': '19/01/2024'}, {'{VALOR}': '100.00', '{VALOR_EXTENSO}': 'Cem reais', 'mes': '5', '{VENCIMENTO}': '20/5/2023', '{MES_REFER}': '5/2023', '{PERIODO}': '20/5/2023 à 19/6/2023', '{CONTRATO_INICIO}': '20/01/2023', '{CONTRATO_FINAL}': '19/01/2024'}, {'{VALOR}': '100.00', '{VALOR_EXTENSO}': 'Cem reais', 'mes': '6', '{VENCIMENTO}': '20/6/2023', '{MES_REFER}': '6/2023', '{PERIODO}': '20/6/2023 à 19/7/2023', '{CONTRATO_INICIO}': '20/01/2023', '{CONTRATO_FINAL}': '19/01/2024'}, {'{VALOR}': '100.00', '{VALOR_EXTENSO}': 'Cem reais', 'mes': '7', '{VENCIMENTO}': '20/7/2023', '{MES_REFER}': '7/2023', '{PERIODO}': '20/7/2023 à 19/8/2023', '{CONTRATO_INICIO}': '20/01/2023', '{CONTRATO_FINAL}': '19/01/2024'}, {'{VALOR}': '100.00', '{VALOR_EXTENSO}': 'Cem reais', 'mes': '8', '{VENCIMENTO}': '20/8/2023', '{MES_REFER}': '8/2023', '{PERIODO}': '20/8/2023 à 19/9/2023', '{CONTRATO_INICIO}': '20/01/2023', '{CONTRATO_FINAL}': '19/01/2024'}, {'{VALOR}': '100.00', '{VALOR_EXTENSO}': 'Cem reais', 'mes': '9', '{VENCIMENTO}': '20/9/2023', '{MES_REFER}': '9/2023', '{PERIODO}': '20/9/2023 à 19/10/2023', '{CONTRATO_INICIO}': '20/01/2023', '{CONTRATO_FINAL}': '19/01/2024'}, {'{VALOR}': '100.00', '{VALOR_EXTENSO}': 'Cem reais', 'mes': '10', '{VENCIMENTO}': '20/10/2023', '{MES_REFER}': '10/2023', '{PERIODO}': '20/10/2023 à 19/11/2023', '{CONTRATO_INICIO}': '20/01/2023', '{CONTRATO_FINAL}': '19/01/2024'}, {'{VALOR}': '100.00', '{VALOR_EXTENSO}': 'Cem reais', 'mes': '11', '{VENCIMENTO}': '20/11/2023', '{MES_REFER}': '11/2023', '{PERIODO}': '20/11/2023 à 19/12/2023', '{CONTRATO_INICIO}': '20/01/2023', '{CONTRATO_FINAL}': '19/01/2024'}, {'{VALOR}': '100.00', '{VALOR_EXTENSO}': 'Cem reais', 'mes': '12', '{VENCIMENTO}': '20/12/2023', '{MES_REFER}': '12/2023', '{PERIODO}': '20/12/2023 à 19/1/2024', '{CONTRATO_INICIO}': '20/01/2023', '{CONTRATO_FINAL}': '19/01/2024'}]\n"
     ]
    }
   ],
   "source": [
    "resultado = CalculoRecibo().dados_entrada(dados_iniciais)\n",
    "print(resultado)"
   ]
  },
  {
   "cell_type": "code",
   "execution_count": 37,
   "id": "c282159a",
   "metadata": {},
   "outputs": [],
   "source": [
    "def substituir_valor(dados_recibo, texto):\n",
    "    for key in dados_recibo.keys():\n",
    "        texto = texto.replace(key, dados_recibo[key])        \n",
    "    return texto"
   ]
  },
  {
   "cell_type": "code",
   "execution_count": 39,
   "id": "de1aba55",
   "metadata": {},
   "outputs": [],
   "source": [
    "from docx import Document\n",
    "from docx.shared import Pt"
   ]
  },
  {
   "cell_type": "code",
   "execution_count": 40,
   "id": "2de416e3",
   "metadata": {},
   "outputs": [],
   "source": [
    "modelo = Document('clientes/ADONIAS/RECIBOS/MODELO_TESTE.docx')"
   ]
  },
  {
   "cell_type": "code",
   "execution_count": 41,
   "id": "776a588b",
   "metadata": {},
   "outputs": [],
   "source": [
    "tabelas = modelo.tables"
   ]
  },
  {
   "cell_type": "code",
   "execution_count": 51,
   "id": "b46de83e",
   "metadata": {},
   "outputs": [],
   "source": [
    "contador_recibos = 0\n",
    "contador_titulos = 0\n",
    "\n",
    "for index, tabela in enumerate(tabelas):    \n",
    "    rows = tabela.rows\n",
    "    for row in rows:\n",
    "        for cell in row.cells:\n",
    "            \n",
    "            if cell.text == 'RECIBO DE ALUGUEL' and index > 0:\n",
    "                contador_titulos = contador_titulos + 1\n",
    "                \n",
    "            if contador_titulos > 1:\n",
    "                contador_recibos = contador_recibos + 1\n",
    "                contador_titulos = 0\n",
    "                \n",
    "            if contador_recibos < 12:\n",
    "                \n",
    "                for paragrafo in cell.paragraphs:\n",
    "                    \n",
    "                    stilo = paragrafo.style\n",
    "                    novo_texto = substituir_valor(resultado[contador_recibos], paragrafo.text)\n",
    "                    paragrafo.text = novo_texto\n",
    "                    paragrafo.style = stilo\n",
    "                    \n",
    "                    #print(paragrafo.text)\n",
    "                \n",
    "            #print(cell.text)\n",
    "\n",
    "#print(contador_recibos)\n",
    "            "
   ]
  },
  {
   "cell_type": "code",
   "execution_count": 52,
   "id": "4f3851c9",
   "metadata": {},
   "outputs": [],
   "source": [
    " modelo.save('teste_substituicao.docx')"
   ]
  },
  {
   "cell_type": "code",
   "execution_count": null,
   "id": "5e800649",
   "metadata": {},
   "outputs": [],
   "source": []
  },
  {
   "cell_type": "code",
   "execution_count": null,
   "id": "c0c29faf",
   "metadata": {},
   "outputs": [],
   "source": []
  }
 ],
 "metadata": {
  "kernelspec": {
   "display_name": "Python 3 (ipykernel)",
   "language": "python",
   "name": "python3"
  },
  "language_info": {
   "codemirror_mode": {
    "name": "ipython",
    "version": 3
   },
   "file_extension": ".py",
   "mimetype": "text/x-python",
   "name": "python",
   "nbconvert_exporter": "python",
   "pygments_lexer": "ipython3",
   "version": "3.10.9"
  }
 },
 "nbformat": 4,
 "nbformat_minor": 5
}
