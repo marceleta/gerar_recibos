{
 "cells": [
  {
   "cell_type": "code",
   "execution_count": 1,
   "id": "ad9ee609",
   "metadata": {},
   "outputs": [
    {
     "name": "stdout",
     "output_type": "stream",
     "text": [
      "/home/marcelo/developer/gerar_recibos\n"
     ]
    }
   ],
   "source": [
    "cd .."
   ]
  },
  {
   "cell_type": "code",
   "execution_count": 12,
   "id": "ce3ce495",
   "metadata": {},
   "outputs": [],
   "source": [
    "class CalculoRecibo():\n",
    "    \n",
    "    @classmethod\n",
    "    def dados_entrada(cls, valores_iniciais):\n",
    "        valor = valores_iniciais['valor']\n",
    "        valor_extenso = valores_iniciais['v_extenso']\n",
    "        dt_inicio_contrato = valores_iniciais['data_inicio_contrato']\n",
    "        dt_final_contrato = valores_iniciais['data_final_contrato']\n",
    "        \n",
    "        \n",
    "        lista_recibos = []\n",
    "        mes = 0\n",
    "        for periodo in range(12):\n",
    "            \n",
    "            \n",
    "            dados_recibo = {}\n",
    "            dados_recibo['{VALOR}'] = valor\n",
    "            dados_recibo['{VALOR_EXTENSO}'] = valor_extenso\n",
    "            \n",
    "            if periodo == 0:\n",
    "                dados_recibo['mes'] = str(periodo + 1)\n",
    "                dados_recibo['{VENCIMENTO}'] = cls.soma_mes(dt_inicio_contrato, 0)\n",
    "                dados_recibo['{MES_REFER}'] = cls.mes_referencia(dados_recibo['{VENCIMENTO}'])\n",
    "                dados_recibo['{PERIODO}'] = cls.periodo_ref(dados_recibo['{VENCIMENTO}'])\n",
    "                \n",
    "            else:\n",
    "                mes = mes + 1\n",
    "                dados_recibo['mes'] = str(mes + 1)\n",
    "                \n",
    "                dados_recibo['{VENCIMENTO}'] = cls.soma_mes(dt_inicio_contrato, mes)\n",
    "                dados_recibo['{MES_REFER}'] = cls.mes_referencia(dados_recibo['{VENCIMENTO}'])\n",
    "                dados_recibo['{PERIODO}'] = cls.periodo_ref(dados_recibo['{VENCIMENTO}'])\n",
    "                \n",
    "            dados_recibo['{CONTRATO_INICIO}'] = dt_inicio_contrato\n",
    "            dados_recibo['{CONTRATO_FINAL}'] = dt_final_contrato\n",
    "            \n",
    "                \n",
    "                \n",
    "                \n",
    "            \n",
    "            lista_recibos.append(dados_recibo)\n",
    "                \n",
    "        return lista_recibos\n",
    "                \n",
    "                         \n",
    "    @classmethod\n",
    "    def soma_mes(cls, data, numero_mes):\n",
    "        \n",
    "        split = data.split('/')\n",
    "        mes = int(split[1])\n",
    "        mes = mes + numero_mes\n",
    "        \n",
    "        if mes > 12:\n",
    "            ano = int(split[2])\n",
    "            ano = ano + 1\n",
    "            mes = mes - 12\n",
    "            nova_data = split[0] + '/' + str(mes) + '/' + str(ano)\n",
    "        else:\n",
    "            nova_data = split[0] + '/' + str(mes) + '/' + split[2]\n",
    "            \n",
    "        return nova_data\n",
    "    \n",
    "    @classmethod\n",
    "    def mes_referencia(cls, data, novo_mes=None):\n",
    "        \n",
    "        split = data.split('/')\n",
    "        \n",
    "        mes = int(split[1])\n",
    "        ano = int(split[2])\n",
    "        \n",
    "        if novo_mes != None:\n",
    "            if mes > 12:\n",
    "                mes = mes - 12\n",
    "                ano = ano + 1\n",
    "            m_referencia = str(mes) + '/' + str(ano)\n",
    "        else:\n",
    "            m_referencia = split[1] + '/' + split[2]\n",
    "        \n",
    "        return m_referencia\n",
    "    \n",
    "    @classmethod\n",
    "    def periodo_ref(cls, data_vencimento):\n",
    "        \n",
    "        split = data_vencimento.split('/')\n",
    "        dia = int(split[0]) - 1\n",
    "        mes = int(split[1]) + 1\n",
    "        ano = int(split[2])\n",
    "        \n",
    "        \n",
    "        if mes > 12:\n",
    "            mes = mes - 12\n",
    "            ano = ano + 1\n",
    "        \n",
    "        data_ref_final = \"{}/{}/{}\".format(str(dia), str(mes), str(ano))\n",
    "        \n",
    "        return \"{} à {}\".format(data_vencimento, data_ref_final)\n",
    "                \n",
    "    #Soma n aos meses sem alterar a             \n",
    "    @classmethod\n",
    "    def soma_mes(cls, data, numero_mes):\n",
    "        \n",
    "        split = data.split('/')\n",
    "        mes = int(split[1])\n",
    "        mes = mes + numero_mes\n",
    "        \n",
    "        if mes > 12:\n",
    "            ano = int(split[2])\n",
    "            ano = ano + 1\n",
    "            mes = mes - numero_mes\n",
    "            nova_data = split[0] + '/' + str(mes) + '/' + str(ano)\n",
    "        else:\n",
    "            nova_data = split[0] + '/' + str(mes) + '/' + split[2]\n",
    "            \n",
    "        return nova_data\n",
    "    \n",
    "    @classmethod\n",
    "    def mes_referencia(cls, data):\n",
    "        \n",
    "        split = data.split('/')\n",
    "        \n",
    "        m_referencia = split[1] + '/' + split[2]\n",
    "        \n",
    "        return m_referencia"
   ]
  },
  {
   "cell_type": "code",
   "execution_count": 13,
   "id": "1916bf2d",
   "metadata": {},
   "outputs": [],
   "source": [
    "dados_iniciais = {\n",
    "    'valor': '100.00',\n",
    "    'v_extenso': 'Cem reais',\n",
    "    'data_inicio_contrato': '15/03/2023',\n",
    "    'data_final_contrato':'15/03/2024'\n",
    "}"
   ]
  },
  {
   "cell_type": "code",
   "execution_count": 14,
   "id": "2667df21",
   "metadata": {},
   "outputs": [
    {
     "data": {
      "text/plain": [
       "{'valor': '100,00',\n",
       " 'data_inicio_contrato': '03/03/2023',\n",
       " 'data_final_contrato': '02/03/2024',\n",
       " 'v_extenso': 'Cem Reais'}"
      ]
     },
     "execution_count": 14,
     "metadata": {},
     "output_type": "execute_result"
    }
   ],
   "source": [
    "{'valor': '100,00', 'data_inicio_contrato': '03/03/2023', 'data_final_contrato': '02/03/2024', 'v_extenso': 'Cem Reais'}"
   ]
  },
  {
   "cell_type": "code",
   "execution_count": 15,
   "id": "4966f474",
   "metadata": {
    "scrolled": true
   },
   "outputs": [
    {
     "data": {
      "text/plain": [
       "[{'{VALOR}': '100.00',\n",
       "  '{VALOR_EXTENSO}': 'Cem reais',\n",
       "  'mes': '1',\n",
       "  '{VENCIMENTO}': '15/3/2023',\n",
       "  '{MES_REFER}': '3/2023',\n",
       "  '{PERIODO}': '15/3/2023 à 14/4/2023',\n",
       "  '{CONTRATO_INICIO}': '15/03/2023',\n",
       "  '{CONTRATO_FINAL}': '15/03/2024'},\n",
       " {'{VALOR}': '100.00',\n",
       "  '{VALOR_EXTENSO}': 'Cem reais',\n",
       "  'mes': '2',\n",
       "  '{VENCIMENTO}': '15/4/2023',\n",
       "  '{MES_REFER}': '4/2023',\n",
       "  '{PERIODO}': '15/4/2023 à 14/5/2023',\n",
       "  '{CONTRATO_INICIO}': '15/03/2023',\n",
       "  '{CONTRATO_FINAL}': '15/03/2024'},\n",
       " {'{VALOR}': '100.00',\n",
       "  '{VALOR_EXTENSO}': 'Cem reais',\n",
       "  'mes': '3',\n",
       "  '{VENCIMENTO}': '15/5/2023',\n",
       "  '{MES_REFER}': '5/2023',\n",
       "  '{PERIODO}': '15/5/2023 à 14/6/2023',\n",
       "  '{CONTRATO_INICIO}': '15/03/2023',\n",
       "  '{CONTRATO_FINAL}': '15/03/2024'},\n",
       " {'{VALOR}': '100.00',\n",
       "  '{VALOR_EXTENSO}': 'Cem reais',\n",
       "  'mes': '4',\n",
       "  '{VENCIMENTO}': '15/6/2023',\n",
       "  '{MES_REFER}': '6/2023',\n",
       "  '{PERIODO}': '15/6/2023 à 14/7/2023',\n",
       "  '{CONTRATO_INICIO}': '15/03/2023',\n",
       "  '{CONTRATO_FINAL}': '15/03/2024'},\n",
       " {'{VALOR}': '100.00',\n",
       "  '{VALOR_EXTENSO}': 'Cem reais',\n",
       "  'mes': '5',\n",
       "  '{VENCIMENTO}': '15/7/2023',\n",
       "  '{MES_REFER}': '7/2023',\n",
       "  '{PERIODO}': '15/7/2023 à 14/8/2023',\n",
       "  '{CONTRATO_INICIO}': '15/03/2023',\n",
       "  '{CONTRATO_FINAL}': '15/03/2024'},\n",
       " {'{VALOR}': '100.00',\n",
       "  '{VALOR_EXTENSO}': 'Cem reais',\n",
       "  'mes': '6',\n",
       "  '{VENCIMENTO}': '15/8/2023',\n",
       "  '{MES_REFER}': '8/2023',\n",
       "  '{PERIODO}': '15/8/2023 à 14/9/2023',\n",
       "  '{CONTRATO_INICIO}': '15/03/2023',\n",
       "  '{CONTRATO_FINAL}': '15/03/2024'},\n",
       " {'{VALOR}': '100.00',\n",
       "  '{VALOR_EXTENSO}': 'Cem reais',\n",
       "  'mes': '7',\n",
       "  '{VENCIMENTO}': '15/9/2023',\n",
       "  '{MES_REFER}': '9/2023',\n",
       "  '{PERIODO}': '15/9/2023 à 14/10/2023',\n",
       "  '{CONTRATO_INICIO}': '15/03/2023',\n",
       "  '{CONTRATO_FINAL}': '15/03/2024'},\n",
       " {'{VALOR}': '100.00',\n",
       "  '{VALOR_EXTENSO}': 'Cem reais',\n",
       "  'mes': '8',\n",
       "  '{VENCIMENTO}': '15/10/2023',\n",
       "  '{MES_REFER}': '10/2023',\n",
       "  '{PERIODO}': '15/10/2023 à 14/11/2023',\n",
       "  '{CONTRATO_INICIO}': '15/03/2023',\n",
       "  '{CONTRATO_FINAL}': '15/03/2024'},\n",
       " {'{VALOR}': '100.00',\n",
       "  '{VALOR_EXTENSO}': 'Cem reais',\n",
       "  'mes': '9',\n",
       "  '{VENCIMENTO}': '15/11/2023',\n",
       "  '{MES_REFER}': '11/2023',\n",
       "  '{PERIODO}': '15/11/2023 à 14/12/2023',\n",
       "  '{CONTRATO_INICIO}': '15/03/2023',\n",
       "  '{CONTRATO_FINAL}': '15/03/2024'},\n",
       " {'{VALOR}': '100.00',\n",
       "  '{VALOR_EXTENSO}': 'Cem reais',\n",
       "  'mes': '10',\n",
       "  '{VENCIMENTO}': '15/12/2023',\n",
       "  '{MES_REFER}': '12/2023',\n",
       "  '{PERIODO}': '15/12/2023 à 14/1/2024',\n",
       "  '{CONTRATO_INICIO}': '15/03/2023',\n",
       "  '{CONTRATO_FINAL}': '15/03/2024'},\n",
       " {'{VALOR}': '100.00',\n",
       "  '{VALOR_EXTENSO}': 'Cem reais',\n",
       "  'mes': '11',\n",
       "  '{VENCIMENTO}': '15/-1/2024',\n",
       "  '{MES_REFER}': '-1/2024',\n",
       "  '{PERIODO}': '15/-1/2024 à 14/0/2024',\n",
       "  '{CONTRATO_INICIO}': '15/03/2023',\n",
       "  '{CONTRATO_FINAL}': '15/03/2024'},\n",
       " {'{VALOR}': '100.00',\n",
       "  '{VALOR_EXTENSO}': 'Cem reais',\n",
       "  'mes': '12',\n",
       "  '{VENCIMENTO}': '15/-2/2024',\n",
       "  '{MES_REFER}': '-2/2024',\n",
       "  '{PERIODO}': '15/-2/2024 à 14/-1/2024',\n",
       "  '{CONTRATO_INICIO}': '15/03/2023',\n",
       "  '{CONTRATO_FINAL}': '15/03/2024'}]"
      ]
     },
     "execution_count": 15,
     "metadata": {},
     "output_type": "execute_result"
    }
   ],
   "source": [
    "resultado = CalculoRecibo().dados_entrada(dados_iniciais)\n",
    "resultado"
   ]
  },
  {
   "cell_type": "code",
   "execution_count": 6,
   "id": "b89543be",
   "metadata": {},
   "outputs": [
    {
     "data": {
      "text/plain": [
       "'20/1/2023'"
      ]
     },
     "execution_count": 6,
     "metadata": {},
     "output_type": "execute_result"
    }
   ],
   "source": [
    "resultado[0]['{VENCIMENTO}']"
   ]
  },
  {
   "cell_type": "code",
   "execution_count": 7,
   "id": "bd52bf94",
   "metadata": {},
   "outputs": [
    {
     "data": {
      "text/plain": [
       "'20/1/2023 à 19/2/2023'"
      ]
     },
     "execution_count": 7,
     "metadata": {},
     "output_type": "execute_result"
    }
   ],
   "source": [
    "resultado[0]['{PERIODO}']"
   ]
  },
  {
   "cell_type": "code",
   "execution_count": 8,
   "id": "1752c058",
   "metadata": {},
   "outputs": [
    {
     "data": {
      "text/plain": [
       "'1/2023'"
      ]
     },
     "execution_count": 8,
     "metadata": {},
     "output_type": "execute_result"
    }
   ],
   "source": [
    "resultado[0]['{MES_REFER}']"
   ]
  },
  {
   "cell_type": "code",
   "execution_count": 9,
   "id": "c282159a",
   "metadata": {},
   "outputs": [],
   "source": [
    "def substituir_valor(dados_recibo, texto):\n",
    "    for key in dados_recibo.keys():\n",
    "        texto = texto.replace(key, dados_recibo[key])        \n",
    "    return texto"
   ]
  },
  {
   "cell_type": "code",
   "execution_count": 10,
   "id": "de1aba55",
   "metadata": {},
   "outputs": [],
   "source": [
    "from docx import Document\n",
    "from docx.shared import Pt"
   ]
  },
  {
   "cell_type": "code",
   "execution_count": 13,
   "id": "2de416e3",
   "metadata": {},
   "outputs": [],
   "source": [
    "modelo = Document('clientes/ADONIAS/RECIBOS/MODELO.docx')"
   ]
  },
  {
   "cell_type": "code",
   "execution_count": 14,
   "id": "776a588b",
   "metadata": {},
   "outputs": [],
   "source": [
    "tabelas = modelo.tables"
   ]
  },
  {
   "cell_type": "code",
   "execution_count": 16,
   "id": "b46de83e",
   "metadata": {},
   "outputs": [],
   "source": [
    "contador_recibos = 0\n",
    "contador_titulos = 0\n",
    "\n",
    "for index, tabela in enumerate(tabelas):    \n",
    "    rows = tabela.rows\n",
    "    for row in rows:\n",
    "        for cell in row.cells:\n",
    "            \n",
    "            if cell.text == 'RECIBO DE ALUGUEL' and index > 0:\n",
    "                contador_titulos = contador_titulos + 1\n",
    "                \n",
    "            if contador_titulos > 1:\n",
    "                contador_recibos = contador_recibos + 1\n",
    "                contador_titulos = 0\n",
    "                \n",
    "            if contador_recibos < 12:\n",
    "                \n",
    "                for paragrafo in cell.paragraphs:\n",
    "                    \n",
    "                    stilo = paragrafo.style\n",
    "                    novo_texto = substituir_valor(resultado[contador_recibos], paragrafo.text)\n",
    "                    paragrafo.text = novo_texto\n",
    "                    paragrafo.style.font.size = Pt(10.5)\n",
    "                    \n",
    "                    #print(paragrafo.text)\n",
    "                \n",
    "            #print(cell.text)\n",
    "\n",
    "#print(contador_recibos)\n",
    "            "
   ]
  },
  {
   "cell_type": "code",
   "execution_count": 17,
   "id": "4f3851c9",
   "metadata": {},
   "outputs": [],
   "source": [
    " modelo.save('teste_substituicao.docx')"
   ]
  },
  {
   "cell_type": "code",
   "execution_count": null,
   "id": "5e800649",
   "metadata": {},
   "outputs": [],
   "source": []
  },
  {
   "cell_type": "code",
   "execution_count": null,
   "id": "c0c29faf",
   "metadata": {},
   "outputs": [],
   "source": []
  }
 ],
 "metadata": {
  "kernelspec": {
   "display_name": "Python 3 (ipykernel)",
   "language": "python",
   "name": "python3"
  },
  "language_info": {
   "codemirror_mode": {
    "name": "ipython",
    "version": 3
   },
   "file_extension": ".py",
   "mimetype": "text/x-python",
   "name": "python",
   "nbconvert_exporter": "python",
   "pygments_lexer": "ipython3",
   "version": "3.10.10"
  }
 },
 "nbformat": 4,
 "nbformat_minor": 5
}
